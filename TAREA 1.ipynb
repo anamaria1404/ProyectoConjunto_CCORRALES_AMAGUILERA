{
 "cells": [
  {
   "cell_type": "markdown",
   "metadata": {},
   "source": [
    "# Tarea 1"
   ]
  },
  {
   "cell_type": "markdown",
   "metadata": {},
   "source": [
    "## Parte 1: Expectativas del curso"
   ]
  },
  {
   "cell_type": "markdown",
   "metadata": {},
   "source": [
    "**Cuauhtémoc:**"
   ]
  },
  {
   "cell_type": "markdown",
   "metadata": {},
   "source": [
    "Hola!!! , mis expectivas de la materia no son muy claras ya que no entiendo satisfactoriamente lo que es el mundo de la programación. Es un área de estudio y trabajo impresionante que ha ayudado al desarrollo de la humanidad. Al saber de este hecho, me da una gran curiosidad saber más sobre este tema. No espero ser un experto programador pero si absorber los conocimientos suficientes para emprender mi empresa por el camino de la programación y simulación."
   ]
  },
  {
   "cell_type": "code",
   "execution_count": null,
   "metadata": {},
   "outputs": [],
   "source": []
  },
  {
   "cell_type": "markdown",
   "metadata": {},
   "source": [
    "**Ana Maria:**"
   ]
  },
  {
   "cell_type": "markdown",
   "metadata": {},
   "source": [
    "Hola, mi nombre es Ana María Aguilera Gómez. Mis expectativas de la materia son, en primera estancia, lograr aprender lo más posible relacionado con las simulaciones de procesos financieros, así como comprender de mejor manera el panorama de la programación que, aunque es muy interesante, es también muy difícil de aprender en mi opinión y requiere de mucha práctica al menos para mi modo personal de aprendizaje. Por último, espero que todo lo que aprenda en este curso me pueda ayudar en mi futuro, sobre todo en el ámbito laboral."
   ]
  },
  {
   "cell_type": "code",
   "execution_count": null,
   "metadata": {},
   "outputs": [],
   "source": []
  },
  {
   "cell_type": "markdown",
   "metadata": {},
   "source": [
    "## Parte 2: Imitación de figuras"
   ]
  },
  {
   "cell_type": "markdown",
   "metadata": {},
   "source": [
    "### **Figura 1**"
   ]
  },
  {
   "cell_type": "markdown",
   "metadata": {},
   "source": [
    "| i |   x  |  f(x)  |\n",
    "|:-:|:----:|:------:|\n",
    "| 0 |  -1  | 0.3678 |\n",
    "| <font color=red>1</font> | <font color=red>-0.5</font> | <font color=red>0.7788</font> |\n",
    "| <font color=blue>2</font> |   <font color=blue>0</font>  |    <font color=blue>1</font>   |\n",
    "| <font color=red>3</font> |  <font color=red>0.5</font> | <font color=red>0.7788</font> |\n",
    "| 4 |   1  | 0.3678 |"
   ]
  },
  {
   "cell_type": "markdown",
   "metadata": {},
   "source": [
    "\n",
    "Cuadro 1: Tabla de valores de f(x).\n"
   ]
  },
  {
   "cell_type": "markdown",
   "metadata": {},
   "source": [
    "\\begin{equation} \\label{eq1}\n",
    "\\begin{split}\n",
    "\\int_{-1}^{1} e^{-x^2} dx & \\approx \\frac{0,5}{3} [f(-1)+f(1)+4(f(-0,5)+f(0.5))+2f(0)]\\\\\n",
    " & \\approx \\frac{0,5}{3} [f(0.3678)+f(0.3678)+4(f(0.7788)+f(0.7788)+2*1] \\approx 1,4936\n",
    "\\end{split}\n",
    "\\end{equation}"
   ]
  },
  {
   "cell_type": "markdown",
   "metadata": {},
   "source": [
    "\n",
    "A modo de verificación, se calculara por software, el valor para n=100, un valor mucho mas elevado al que se utilizo anteriormente. Si lo calculado previamente es corrrecto, se esperaria que sea proximado al valor presentado a continuación para que fuera una buena aproximación. \n"
   ]
  },
  {
   "cell_type": "markdown",
   "metadata": {},
   "source": [
    "$$\n",
    "\\int_{-1}^{1} e^{-x^2} dx \\approx 1,4936\n",
    "$$"
   ]
  },
  {
   "cell_type": "markdown",
   "metadata": {},
   "source": []
  },
  {
   "cell_type": "markdown",
   "metadata": {},
   "source": [
    "### **Figura 2**"
   ]
  },
  {
   "cell_type": "markdown",
   "metadata": {},
   "source": [
    "| i               | 1   | 2   | 3   | 4   | 5 | 6 | 7  |\n",
    "|:--------------  |:---:|:---:|:---:|:---:|:-:|:-:|---:|\n",
    "| $$E_i(V)$$      | 12  | 10  | 24  | 12  | - | - | -  |\n",
    "| $$r_i(\\Omega)$$ | 0.1 | 0.5 | 0.2 | 0.5 | - | - | -  |\n",
    "| $$R_i(\\Omega)$$ | 25  | 40  | 16  | 20  | 9 | 4 | 20 |"
   ]
  },
  {
   "cell_type": "markdown",
   "metadata": {},
   "source": [
    "<font color= blue > Kemna y Vorst (1990) </font> muestran que las opciones asiáticas con media geométrica continua se pueden valuar con el mismo enfoque de las opciones *plain vanilla*; solo se deben cambiar los parámetros de volatilidad $\\sigma$ por $\\sigma_a$, y el costo de acarreo $b$ por $b_A$.\n",
    "\n",
    "  De acuerdo con Kemna y Vorst, las fórmulas para valuar una opción de compra y una opción de venta son:"
   ]
  },
  {
   "cell_type": "markdown",
   "metadata": {},
   "source": [
    "$c\\approx S_te^{(b_A-r)(T-t)}\\phi(d_1)-Ke^{-r(T-t)}\\phi(d_2)$,"
   ]
  },
  {
   "cell_type": "markdown",
   "metadata": {},
   "source": [
    "$p\\approx Ke^{-r(T-t)}\\phi(-d_2)-S_te^{(b_A-r)(T-t)}\\phi(-d_1).$"
   ]
  },
  {
   "cell_type": "markdown",
   "metadata": {},
   "source": [
    "con $d_1$ y $d_2$ dados por:"
   ]
  },
  {
   "cell_type": "markdown",
   "metadata": {},
   "source": [
    "### $d_1=\\frac{\\ln{(S_t/K)}+(b_A+1/2\\sigma^2_a)(T-t)}{\\sigma\\sqrt{T-t}},$"
   ]
  },
  {
   "cell_type": "markdown",
   "metadata": {},
   "source": [
    "$d_2=d_1-\\sigma_a\\sqrt{T-t}.$"
   ]
  },
  {
   "cell_type": "markdown",
   "metadata": {},
   "source": [
    "La función $\\phi(d)$ es la función de distribución acumulada de $E$~$N(0,1).$ La volatilidad ajustada es igual a:\n",
    "\n",
    "### $\\sigma_a=\\frac{\\sigma}{\\sqrt{3}},$"
   ]
  },
  {
   "cell_type": "markdown",
   "metadata": {},
   "source": [
    "mientras que el costo de acarreo ajustado es:\n",
    "\n",
    "$b_A=\\frac{1}{2}(v-\\frac{\\sigma^2}{6}).$"
   ]
  },
  {
   "cell_type": "markdown",
   "metadata": {},
   "source": []
  },
  {
   "cell_type": "markdown",
   "metadata": {},
   "source": [
    "### Fomula de Fibonacci"
   ]
  },
  {
   "cell_type": "code",
   "execution_count": 10,
   "metadata": {},
   "outputs": [
    {
     "data": {
      "text/plain": [
       "array([0, 1, 1, 2, 3, 5, 8, 13, 21, 34, 55, 89, 144, 233, 377, 610, 987,\n",
       "       1597, 2584, 4181, 6765, 10946, 17711, 28657, 46368, 75025, 121393,\n",
       "       196418, 317811, 514229, 832040, 1346269, 2178309, 3524578, 5702887,\n",
       "       9227465, 14930352, 24157817, 39088169, 63245986, 102334155,\n",
       "       165580141, 267914296, 433494437, 701408733, 1134903170, 1836311903,\n",
       "       2971215073, 4807526976, 7778742049, 12586269025, 20365011074,\n",
       "       32951280099, 53316291173, 86267571272, 139583862445, 225851433717,\n",
       "       365435296162, 591286729879, 956722026041, 1548008755920,\n",
       "       2504730781961, 4052739537881, 6557470319842, 10610209857723,\n",
       "       17167680177565, 27777890035288, 44945570212853, 72723460248141,\n",
       "       117669030460994, 190392490709135, 308061521170129, 498454011879264,\n",
       "       806515533049393, 1304969544928657, 2111485077978050,\n",
       "       3416454622906707, 5527939700884757, 8944394323791464,\n",
       "       14472334024676221, 23416728348467685, 37889062373143906,\n",
       "       61305790721611591, 99194853094755497, 160500643816367088,\n",
       "       259695496911122585, 420196140727489673, 679891637638612258,\n",
       "       1100087778366101931, 1779979416004714189, 2880067194370816120,\n",
       "       4660046610375530309, 7540113804746346429, 12200160415121876738,\n",
       "       19740274219868223167, 31940434634990099905, 51680708854858323072,\n",
       "       83621143489848422977, 135301852344706746049, 218922995834555169026,\n",
       "       354224848179261915075], dtype=object)"
      ]
     },
     "execution_count": 10,
     "metadata": {},
     "output_type": "execute_result"
    }
   ],
   "source": [
    "import numpy as np\n",
    "n=100\n",
    "y0,y1=0,1\n",
    "y=[y0,y1]\n",
    "for i in range(n-1):\n",
    "    y.append(y[-1]+y[-2])\n",
    "arreglo = np.array(y)\n",
    "arreglo"
   ]
  },
  {
   "cell_type": "code",
   "execution_count": null,
   "metadata": {},
   "outputs": [],
   "source": []
  },
  {
   "cell_type": "code",
   "execution_count": null,
   "metadata": {},
   "outputs": [],
   "source": []
  }
 ],
 "metadata": {
  "kernelspec": {
   "display_name": "Python 3",
   "language": "python",
   "name": "python3"
  },
  "language_info": {
   "codemirror_mode": {
    "name": "ipython",
    "version": 3
   },
   "file_extension": ".py",
   "mimetype": "text/x-python",
   "name": "python",
   "nbconvert_exporter": "python",
   "pygments_lexer": "ipython3",
   "version": "3.8.5"
  }
 },
 "nbformat": 4,
 "nbformat_minor": 4
}
